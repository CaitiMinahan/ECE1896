{
 "cells": [
  {
   "cell_type": "markdown",
   "source": [
    "# Import Libraries and LOWESS Utils"
   ],
   "metadata": {
    "collapsed": false
   },
   "id": "bc45137ba97620d8"
  },
  {
   "cell_type": "code",
   "execution_count": 23,
   "id": "initial_id",
   "metadata": {
    "collapsed": true,
    "ExecuteTime": {
     "end_time": "2024-02-07T15:03:47.502657100Z",
     "start_time": "2024-02-07T15:03:47.488644300Z"
    }
   },
   "outputs": [],
   "source": [
    "import numpy as np\n",
    "import pandas as pd\n",
    "import matplotlib.pyplot as plt\n",
    "from moepy import lowess"
   ]
  },
  {
   "cell_type": "markdown",
   "source": [
    "# Read Data"
   ],
   "metadata": {
    "collapsed": false
   },
   "id": "8bcefa2f7d33d5eb"
  },
  {
   "cell_type": "code",
   "execution_count": 25,
   "outputs": [],
   "source": [
    "data = pd.read_csv('../res/model_data/batemo_model_data.csv')\n",
    "data = data[data.V >= 2.5]"
   ],
   "metadata": {
    "collapsed": false,
    "ExecuteTime": {
     "end_time": "2024-02-07T15:03:56.272977Z",
     "start_time": "2024-02-07T15:03:55.209072100Z"
    }
   },
   "id": "1a9f7808c09bbcfa"
  },
  {
   "cell_type": "markdown",
   "source": [
    "# Train LOWESS Model"
   ],
   "metadata": {
    "collapsed": false
   },
   "id": "963f778dd6fc231b"
  },
  {
   "cell_type": "code",
   "execution_count": null,
   "outputs": [
    {
     "name": "stderr",
     "output_type": "stream",
     "text": [
      "C:\\Users\\LucasTroy\\AppData\\Local\\Programs\\Python\\Python311\\Lib\\site-packages\\moepy\\lowess.py:38: RuntimeWarning: divide by zero encountered in divide\n",
      "  dist_to_weights = lambda dist, dist_threshold=1: (1 - ((np.abs(dist)/dist_threshold).clip(0, 1) ** 3)) ** 3\n",
      "C:\\Users\\LucasTroy\\AppData\\Local\\Programs\\Python\\Python311\\Lib\\site-packages\\moepy\\lowess.py:38: RuntimeWarning: invalid value encountered in divide\n",
      "  dist_to_weights = lambda dist, dist_threshold=1: (1 - ((np.abs(dist)/dist_threshold).clip(0, 1) ** 3)) ** 3\n"
     ]
    }
   ],
   "source": [
    "min_SOH, max_SOH = data.SOH.min(), data.SOH.max()\n",
    "min_I, max_I = int(data.I.min()), int(data.I.max())\n",
    "\n",
    "# Initialize lists to store results\n",
    "V_acc = []\n",
    "SOC_pred = []\n",
    "\n",
    "for i in range(min_SOH, max_SOH + 1):\n",
    "    for j in range(min_I, max_I + 1):\n",
    "        data_ij = data[(data.SOH == i) & (data.I == j)]\n",
    "        V = np.array(data_ij.V)\n",
    "        SOC = np.array(data_ij.SOC)\n",
    "        lowess_model = lowess.Lowess()\n",
    "        lowess_model.fit(V, SOC, frac=0.01)\n",
    "        y_pred = lowess_model.predict(V)\n",
    "        \n",
    "        # Append results to lists\n",
    "        V_acc.extend(V)\n",
    "        SOC_pred.extend(y_pred)\n",
    "\n",
    "# Export the results to a new CSV\n",
    "results = pd.DataFrame({'V': V_acc, 'SOC': SOC_pred})\n",
    "results.to_csv('../res/model_data/lowess_results.csv', index=False)\n",
    "\n",
    "# Plot LOWESS Model\n",
    "# plt.plot(V, y_pred, '--', label='Estimate', color='k', zorder=3)\n",
    "# plt.scatter(V, SOC, label='With Noise', color='C1', s=5, zorder=1)\n",
    "# plt.legend(frameon=False)"
   ],
   "metadata": {
    "collapsed": false,
    "is_executing": true,
    "ExecuteTime": {
     "start_time": "2024-02-07T15:04:12.520602200Z"
    }
   },
   "id": "81642359f4e03a8e"
  },
  {
   "cell_type": "code",
   "execution_count": 2,
   "outputs": [
    {
     "name": "stdout",
     "output_type": "stream",
     "text": [
      "(582, 2)\n"
     ]
    },
    {
     "ename": "ValueError",
     "evalue": "shapes (582,582) and (1,2) not aligned: 582 (dim 1) != 1 (dim 0)",
     "output_type": "error",
     "traceback": [
      "\u001B[1;31m---------------------------------------------------------------------------\u001B[0m",
      "\u001B[1;31mValueError\u001B[0m                                Traceback (most recent call last)",
      "Cell \u001B[1;32mIn[2], line 51\u001B[0m\n\u001B[0;32m     48\u001B[0m k_range \u001B[38;5;241m=\u001B[39m np\u001B[38;5;241m.\u001B[39mlinspace(\u001B[38;5;241m0.01\u001B[39m, \u001B[38;5;241m0.1\u001B[39m, \u001B[38;5;241m10\u001B[39m)  \u001B[38;5;66;03m# Adjust as needed\u001B[39;00m\n\u001B[0;32m     50\u001B[0m \u001B[38;5;28;01mfor\u001B[39;00m k \u001B[38;5;129;01min\u001B[39;00m k_range:\n\u001B[1;32m---> 51\u001B[0m     ypred \u001B[38;5;241m=\u001B[39m \u001B[43mlocalWeightRegression\u001B[49m\u001B[43m(\u001B[49m\u001B[43mX\u001B[49m\u001B[43m,\u001B[49m\u001B[43m \u001B[49m\u001B[43mmcolB\u001B[49m\u001B[43m,\u001B[49m\u001B[43m \u001B[49m\u001B[43mk\u001B[49m\u001B[43m)\u001B[49m\n\u001B[0;32m     52\u001B[0m     variance \u001B[38;5;241m=\u001B[39m np\u001B[38;5;241m.\u001B[39mvar(ypred \u001B[38;5;241m-\u001B[39m colB)  \u001B[38;5;66;03m# Calculate variance between ypred and colB\u001B[39;00m\n\u001B[0;32m     53\u001B[0m     k_values\u001B[38;5;241m.\u001B[39mappend(k)\n",
      "File \u001B[1;32m~\\Documents\\ECE1896\\utils\\python\\locally_weighted_regression.py:26\u001B[0m, in \u001B[0;36mlocalWeightRegression\u001B[1;34m(xmat, ymat, k)\u001B[0m\n\u001B[0;32m     23\u001B[0m ypred \u001B[38;5;241m=\u001B[39m np\u001B[38;5;241m.\u001B[39mzeros(m)\n\u001B[0;32m     25\u001B[0m \u001B[38;5;28;01mfor\u001B[39;00m i \u001B[38;5;129;01min\u001B[39;00m \u001B[38;5;28mrange\u001B[39m(m):\n\u001B[1;32m---> 26\u001B[0m     ypred[i] \u001B[38;5;241m=\u001B[39m xmat[i] \u001B[38;5;241m*\u001B[39m \u001B[43mlocalWeight\u001B[49m\u001B[43m(\u001B[49m\u001B[43mxmat\u001B[49m\u001B[43m[\u001B[49m\u001B[43mi\u001B[49m\u001B[43m]\u001B[49m\u001B[43m,\u001B[49m\u001B[43m \u001B[49m\u001B[43mxmat\u001B[49m\u001B[43m,\u001B[49m\u001B[43m \u001B[49m\u001B[43mymat\u001B[49m\u001B[43m,\u001B[49m\u001B[43m \u001B[49m\u001B[43mk\u001B[49m\u001B[43m)\u001B[49m\n\u001B[0;32m     28\u001B[0m \u001B[38;5;28;01mreturn\u001B[39;00m ypred\n",
      "File \u001B[1;32m~\\Documents\\ECE1896\\utils\\python\\locally_weighted_regression.py:18\u001B[0m, in \u001B[0;36mlocalWeight\u001B[1;34m(point, xmat, ymat, k)\u001B[0m\n\u001B[0;32m     16\u001B[0m \u001B[38;5;28;01mdef\u001B[39;00m \u001B[38;5;21mlocalWeight\u001B[39m(point, xmat, ymat, k):\n\u001B[0;32m     17\u001B[0m     wt \u001B[38;5;241m=\u001B[39m kernel(point, xmat, k)\n\u001B[1;32m---> 18\u001B[0m     W \u001B[38;5;241m=\u001B[39m (point\u001B[38;5;241m.\u001B[39mT \u001B[38;5;241m*\u001B[39m (\u001B[43mwt\u001B[49m\u001B[38;5;241;43m*\u001B[39;49m\u001B[43mpoint\u001B[49m))\u001B[38;5;241m.\u001B[39mI \u001B[38;5;241m*\u001B[39m (point\u001B[38;5;241m.\u001B[39mT \u001B[38;5;241m*\u001B[39m wt \u001B[38;5;241m*\u001B[39m ymat\u001B[38;5;241m.\u001B[39mT)\n\u001B[0;32m     19\u001B[0m     \u001B[38;5;28;01mreturn\u001B[39;00m W\n",
      "File \u001B[1;32m~\\AppData\\Local\\Programs\\Python\\Python311\\Lib\\site-packages\\numpy\\matrixlib\\defmatrix.py:219\u001B[0m, in \u001B[0;36mmatrix.__mul__\u001B[1;34m(self, other)\u001B[0m\n\u001B[0;32m    216\u001B[0m \u001B[38;5;28;01mdef\u001B[39;00m \u001B[38;5;21m__mul__\u001B[39m(\u001B[38;5;28mself\u001B[39m, other):\n\u001B[0;32m    217\u001B[0m     \u001B[38;5;28;01mif\u001B[39;00m \u001B[38;5;28misinstance\u001B[39m(other, (N\u001B[38;5;241m.\u001B[39mndarray, \u001B[38;5;28mlist\u001B[39m, \u001B[38;5;28mtuple\u001B[39m)) :\n\u001B[0;32m    218\u001B[0m         \u001B[38;5;66;03m# This promotes 1-D vectors to row vectors\u001B[39;00m\n\u001B[1;32m--> 219\u001B[0m         \u001B[38;5;28;01mreturn\u001B[39;00m \u001B[43mN\u001B[49m\u001B[38;5;241;43m.\u001B[39;49m\u001B[43mdot\u001B[49m\u001B[43m(\u001B[49m\u001B[38;5;28;43mself\u001B[39;49m\u001B[43m,\u001B[49m\u001B[43m \u001B[49m\u001B[43masmatrix\u001B[49m\u001B[43m(\u001B[49m\u001B[43mother\u001B[49m\u001B[43m)\u001B[49m\u001B[43m)\u001B[49m\n\u001B[0;32m    220\u001B[0m     \u001B[38;5;28;01mif\u001B[39;00m isscalar(other) \u001B[38;5;129;01mor\u001B[39;00m \u001B[38;5;129;01mnot\u001B[39;00m \u001B[38;5;28mhasattr\u001B[39m(other, \u001B[38;5;124m'\u001B[39m\u001B[38;5;124m__rmul__\u001B[39m\u001B[38;5;124m'\u001B[39m) :\n\u001B[0;32m    221\u001B[0m         \u001B[38;5;28;01mreturn\u001B[39;00m N\u001B[38;5;241m.\u001B[39mdot(\u001B[38;5;28mself\u001B[39m, other)\n",
      "\u001B[1;31mValueError\u001B[0m: shapes (582,582) and (1,2) not aligned: 582 (dim 1) != 1 (dim 0)"
     ]
    }
   ],
   "source": [
    "# TODO: look up how to reference the csv given bus values for V and I as well as SOH from model for predicting SOC\n",
    "\n",
    "# for i in range(0, 101):\n",
    "#     for j in range(-55, 56):\n",
    "\n",
    "optimal_k = []\n",
    "\n",
    "for i in range(90,93):\n",
    "    for j in range(10,11):\n",
    "\n",
    "        data = data[data.SOH == i]\n",
    "        data = data[data.I == j]\n",
    "\n",
    "        colA = np.array(data.V)\n",
    "        colB = np.array(data.SOC)\n",
    "\n",
    "        mcolA = np.mat(colA)\n",
    "        mcolB = np.mat(colB)\n",
    "\n",
    "        m = np.shape(mcolB)[1]\n",
    "        one = np.ones((1, m), dtype = int)\n",
    "\n",
    "        # horizontal stacking\n",
    "        X = np.hstack((one.T, mcolA.T))\n",
    "        print(X.shape)\n",
    "\n",
    "        # ypred = localWeightRegression(X, mcolB, 0.02)\n",
    "\n",
    "        # find the variance of ypred and colB looping through different k values\n",
    "        # find the optimal k value that minimizes the variance\n",
    "\n",
    "        # Initialize lists to store k values and corresponding variances\n",
    "        k_values = []\n",
    "        variances = []\n",
    "\n",
    "        # Range of k values to try\n",
    "        k_range = np.linspace(0.01, 0.1, 10)  # Adjust as needed\n",
    "\n",
    "        for k in k_range:\n",
    "            ypred = localWeightRegression(X, mcolB, k)\n",
    "            variance = np.var(ypred - colB)  # Calculate variance between ypred and colB\n",
    "            k_values.append(k)\n",
    "            variances.append(variance)\n",
    "\n",
    "        # Find the index of the minimum variance\n",
    "        min_variance_index = np.argmin(variances)\n",
    "        optimal_k.append(k_values[min_variance_index])\n",
    "        # min_variance = variances[min_variance_index]\n",
    "\n",
    "print(optimal_k)\n",
    "\n",
    "# plot a histogram of optimal k values\n",
    "plt.hist(optimal_k, bins=10)\n",
    "plt.xlabel('k')\n",
    "plt.ylabel('Frequency')\n",
    "plt.title('Optimal k Values')\n",
    "plt.show()\n",
    "\n",
    "        # print(\"For i =\", i, \"and j =\", j)\n",
    "        # print(\"Optimal k:\", optimal_k)\n",
    "        # print(\"Min Variance:\", min_variance)\n",
    "\n",
    "        # Plot the variance vs. k values\n",
    "        # plt.plot(k_values, variances)\n",
    "        # plt.xlabel('k')\n",
    "        # plt.ylabel('Variance')\n",
    "        # plt.title('Variance vs. k')\n",
    "        # plt.show()\n",
    "\n",
    "        # append the data to a csv\n",
    "        # export = pd.DataFrame()\n",
    "        # export['V'] = colA.round(3)\n",
    "        # export['I'] = j\n",
    "        # export['SOH'] = i\n",
    "        # export['SOC'] = np.round(ypred,3)\n",
    "        # export.to_csv('new csv.csv', mode='a', header=False)\n",
    "\n",
    "        # xsort = X.copy()\n",
    "        # xsort.sort(axis=0)\n",
    "        # plt.scatter(colA, colB, color='blue')\n",
    "        # #                V           SOC\n",
    "        # plt.plot(xsort[:, 1], ypred[X[:, 1].argsort(0)], color='yellow', linewidth=5)\n",
    "        # plt.xlabel('V')\n",
    "        # plt.ylabel('SOC')\n",
    "        # plt.show()\n",
    "\n"
   ],
   "metadata": {
    "collapsed": false,
    "ExecuteTime": {
     "end_time": "2024-02-07T14:40:11.524582400Z",
     "start_time": "2024-02-07T14:40:10.145149800Z"
    }
   },
   "id": "c97f10e5f711baf4"
  },
  {
   "cell_type": "code",
   "execution_count": null,
   "outputs": [],
   "source": [
    "# sample code for compressing the csv and prepping it to be flashed onto the microcontroller:\n",
    "import zlib\n",
    "\n",
    "# Read CSV data\n",
    "data = pd.read_csv('new csv.csv')\n",
    "\n",
    "# Convert data to binary format\n",
    "binary_data = data.to_string().encode('utf-8')\n",
    "\n",
    "# Compress binary data\n",
    "compressed_data = zlib.compress(binary_data)\n",
    "\n",
    "# Write compressed data to file\n",
    "with open('compressed_data.bin', 'wb') as f:\n",
    "    f.write(compressed_data)"
   ],
   "metadata": {
    "collapsed": false
   },
   "id": "5d3f89f400e20d78"
  }
 ],
 "metadata": {
  "kernelspec": {
   "display_name": "Python 3",
   "language": "python",
   "name": "python3"
  },
  "language_info": {
   "codemirror_mode": {
    "name": "ipython",
    "version": 2
   },
   "file_extension": ".py",
   "mimetype": "text/x-python",
   "name": "python",
   "nbconvert_exporter": "python",
   "pygments_lexer": "ipython2",
   "version": "2.7.6"
  }
 },
 "nbformat": 4,
 "nbformat_minor": 5
}

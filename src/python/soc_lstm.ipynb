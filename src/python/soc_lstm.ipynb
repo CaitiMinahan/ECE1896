{
 "cells": [
  {
   "cell_type": "markdown",
   "source": [
    "# Long short-term memory (LSTM) for Battery Management System (BMS) State of Charge (SOC) and State of Health (SOH) Estimation\n",
    "\n",
    "<img src=\"../../doc/img/LSTMNetwork.jpg\" height=\"530\"\n",
    "     alt=\"Machine Learning Network\"\n",
    "     style=\"fit: left; margin-right: 10px;\"  />"
   ],
   "metadata": {
    "collapsed": false
   },
   "id": "ede2fd9ea9a82e5"
  },
  {
   "cell_type": "markdown",
   "source": [
    "# Import Libraries"
   ],
   "metadata": {
    "collapsed": false
   },
   "id": "d6a4133cfdb0184d"
  },
  {
   "cell_type": "code",
   "outputs": [],
   "source": [
    "import pandas as pd\n",
    "import numpy as np\n",
    "import matplotlib.pyplot as plt\n",
    "\n",
    "from tensorflow import keras\n",
    "from keras.models import Sequential\n",
    "from keras.layers import Dense\n",
    "from keras.layers import LSTM\n",
    "from sklearn.model_selection import train_test_split\n",
    "\n",
    "# adding new libraries\n",
    "import tensorflow as tf \n",
    "from tensorflow.keras.models import Sequential, Model \n",
    "from tensorflow.keras.layers import Flatten \n",
    "from tensorflow.keras.layers import Dense, Dropout \n",
    "from tensorflow.keras.layers import LSTM, LayerNormalization\n",
    "from tensorflow.keras.layers import Activation \n",
    "from tensorflow.keras import layers, Input\n",
    "from sklearn.model_selection import train_test_split\n",
    "from sklearn.preprocessing import MinMaxScaler  \n",
    "from tensorflow.keras.optimizers import Adam\n"
   ],
   "metadata": {
    "collapsed": false,
    "ExecuteTime": {
     "end_time": "2024-03-07T00:38:13.346695700Z",
     "start_time": "2024-03-07T00:38:13.315078Z"
    }
   },
   "id": "3bb5f57e7bcf1ed4",
   "execution_count": 13
  },
  {
   "cell_type": "markdown",
   "source": [
    "# Import Data"
   ],
   "metadata": {
    "collapsed": false
   },
   "id": "382394fc93f24d78"
  },
  {
   "cell_type": "code",
   "execution_count": 14,
   "id": "initial_id",
   "metadata": {
    "collapsed": true,
    "ExecuteTime": {
     "end_time": "2024-03-07T00:38:16.434867100Z",
     "start_time": "2024-03-07T00:38:14.489641300Z"
    }
   },
   "outputs": [
    {
     "data": {
      "text/plain": "                  V             I           SOC        T_surf           SOH\ncount  1.640946e+06  1.640946e+06  1.640946e+06  1.640946e+06  1.640946e+06\nmean   3.471013e+00  3.610140e+00  4.188879e+01  5.180549e+01  8.566437e+01\nstd    8.445745e-01  2.830966e+01  4.022232e+01  2.451698e+01  9.026790e+00\nmin   -9.394656e-01 -5.500295e+01 -5.753759e+00  2.499965e+01  7.000000e+01\n25%    3.144859e+00 -1.900000e+01  1.230206e+00  2.583835e+01  7.800000e+01\n50%    3.693897e+00  5.000000e+00  3.474387e+01  4.826449e+01  8.600000e+01\n75%    4.064538e+00  2.600000e+01  8.456010e+01  7.304868e+01  9.400000e+01\nmax    4.723157e+00  5.500289e+01  1.070423e+02  1.015903e+02  1.000000e+02",
      "text/html": "<div>\n<style scoped>\n    .dataframe tbody tr th:only-of-type {\n        vertical-align: middle;\n    }\n\n    .dataframe tbody tr th {\n        vertical-align: top;\n    }\n\n    .dataframe thead th {\n        text-align: right;\n    }\n</style>\n<table border=\"1\" class=\"dataframe\">\n  <thead>\n    <tr style=\"text-align: right;\">\n      <th></th>\n      <th>V</th>\n      <th>I</th>\n      <th>SOC</th>\n      <th>T_surf</th>\n      <th>SOH</th>\n    </tr>\n  </thead>\n  <tbody>\n    <tr>\n      <th>count</th>\n      <td>1.640946e+06</td>\n      <td>1.640946e+06</td>\n      <td>1.640946e+06</td>\n      <td>1.640946e+06</td>\n      <td>1.640946e+06</td>\n    </tr>\n    <tr>\n      <th>mean</th>\n      <td>3.471013e+00</td>\n      <td>3.610140e+00</td>\n      <td>4.188879e+01</td>\n      <td>5.180549e+01</td>\n      <td>8.566437e+01</td>\n    </tr>\n    <tr>\n      <th>std</th>\n      <td>8.445745e-01</td>\n      <td>2.830966e+01</td>\n      <td>4.022232e+01</td>\n      <td>2.451698e+01</td>\n      <td>9.026790e+00</td>\n    </tr>\n    <tr>\n      <th>min</th>\n      <td>-9.394656e-01</td>\n      <td>-5.500295e+01</td>\n      <td>-5.753759e+00</td>\n      <td>2.499965e+01</td>\n      <td>7.000000e+01</td>\n    </tr>\n    <tr>\n      <th>25%</th>\n      <td>3.144859e+00</td>\n      <td>-1.900000e+01</td>\n      <td>1.230206e+00</td>\n      <td>2.583835e+01</td>\n      <td>7.800000e+01</td>\n    </tr>\n    <tr>\n      <th>50%</th>\n      <td>3.693897e+00</td>\n      <td>5.000000e+00</td>\n      <td>3.474387e+01</td>\n      <td>4.826449e+01</td>\n      <td>8.600000e+01</td>\n    </tr>\n    <tr>\n      <th>75%</th>\n      <td>4.064538e+00</td>\n      <td>2.600000e+01</td>\n      <td>8.456010e+01</td>\n      <td>7.304868e+01</td>\n      <td>9.400000e+01</td>\n    </tr>\n    <tr>\n      <th>max</th>\n      <td>4.723157e+00</td>\n      <td>5.500289e+01</td>\n      <td>1.070423e+02</td>\n      <td>1.015903e+02</td>\n      <td>1.000000e+02</td>\n    </tr>\n  </tbody>\n</table>\n</div>"
     },
     "execution_count": 14,
     "metadata": {},
     "output_type": "execute_result"
    }
   ],
   "source": [
    "# Import Data\n",
    "df = pd.read_csv('../../res/model_data/batemo_model_data.csv')\n",
    "df.describe()\n"
   ]
  },
  {
   "cell_type": "markdown",
   "source": [
    "# Train Test Split"
   ],
   "metadata": {
    "collapsed": false
   },
   "id": "f43256173a46820c"
  },
  {
   "cell_type": "code",
   "outputs": [
    {
     "name": "stdout",
     "output_type": "stream",
     "text": [
      "(1312755, 1, 2)\n",
      "(1312755, 2)\n",
      "(328189, 1, 2)\n",
      "(328189, 2)\n"
     ]
    }
   ],
   "source": [
    "# Define training variables\n",
    "# TODO: need to consider if keeping current (I) is a valuable input feature or not (test if the model performs better w/o it)\n",
    "X = df[['V', 'I']].values\n",
    "\n",
    "# TODO: add calculating SOP\n",
    "# LSTM output with 2 nodes (SOH and SOC) \n",
    "# Y = df[['SOC', 'SOH']].values\n",
    "Y = df[['SOC']].values\n",
    "\n",
    "# Normalize input data\n",
    "scaler = MinMaxScaler()\n",
    "X_scaled = scaler.fit_transform(X)\n",
    "\n",
    "# Split the data into training and testing\n",
    "# x_train, x_test, y_train, y_test = train_test_split(X_scaled, Y, test_size=0.2, random_state=42)  # use normalized features to prevent over-fitting (X_scaled)\n",
    "x_train, x_test, y_train, y_test = train_test_split(X, Y, test_size=0.2, random_state=42)  # use normalized features to prevent over-fitting (X_scaled)\n",
    "\n",
    "# Define function to create sequences\n",
    "# NOTE: The creation of input-output pairs allows the model to learn from historical context. The input sequences serve as a history of past observations, while the corresponding output (target) provides the next observation in the sequence.This historical context is crucial for making accurate predictions, especially in time-series forecasting or sequence prediction tasks where the future state depends on past states\n",
    "def create_sequences(data, seq_length):\n",
    "    X = []\n",
    "    y = []\n",
    "    for i in range(len(data) - seq_length):\n",
    "        X.append(data[i:i + seq_length])  # Features (voltage, current, temperature, state of charge) are turned into a list of historical values \n",
    "        y.append(data[i + seq_length])     # Target variables (SOH and SOC) are turned into a list of historical values \n",
    "    return np.array(X), np.array(y)\n",
    "\n",
    "# Choose sequence length\n",
    "seq_length = 1 # sequence length set to 1 to take immediate values from sensor reading during testing \n",
    "# NOTE:  Even with seq_length of 1, organizing the data into sequences might provide the model with some historical context. Although the immediate historical context is limited, the model can still potentially learn from patterns and trends in the data over time\n",
    "# TODO: may need to increase the sequence length if the model performs poorly on testing (sensor) data \n",
    "\n",
    "# Create sequences for training and testing data\n",
    "X_train_seq, y_train_seq = create_sequences(x_train, seq_length)\n",
    "X_test_seq, y_test_seq = create_sequences(x_test, seq_length)\n",
    "\n",
    "print(X_train_seq.shape)\n",
    "print(y_train_seq.shape)\n",
    "print(X_test_seq.shape)\n",
    "print(y_test_seq.shape)\n",
    "\n",
    "# reshape the data \n",
    "# x_train = x_train.reshape((x_train.shape[0], x_train.shape[1], 1))\n",
    "# x_test = x_test.reshape((x_test.shape[0], x_test.shape[1], 1))\n",
    "\n",
    "# Reshape training and testing data to have an input shape of (1, 1, 2)\n",
    "X_train_reshaped = X_train_seq.reshape((X_train_seq.shape[0], 1, 2))\n",
    "X_test_reshaped = X_test_seq.reshape((X_test_seq.shape[0], 1, 2))\n",
    "\n",
    "# print(x_train)\n",
    "# print(y_train)\n"
   ],
   "metadata": {
    "collapsed": false,
    "ExecuteTime": {
     "end_time": "2024-03-07T00:57:47.873951700Z",
     "start_time": "2024-03-07T00:57:44.493505600Z"
    }
   },
   "id": "fec8c5f154adcc8a",
   "execution_count": 18
  },
  {
   "cell_type": "markdown",
   "source": [
    "# Fit Model"
   ],
   "metadata": {
    "collapsed": false
   },
   "id": "bca6a6d9d787af94"
  },
  {
   "cell_type": "code",
   "outputs": [
    {
     "name": "stdout",
     "output_type": "stream",
     "text": [
      "Model: \"sequential_6\"\n",
      "_________________________________________________________________\n",
      " Layer (type)                Output Shape              Param #   \n",
      "=================================================================\n",
      " lstm_6 (LSTM)               (None, 50)                10600     \n",
      "                                                                 \n",
      " layer_normalization_5 (Lay  (None, 50)                100       \n",
      " erNormalization)                                                \n",
      "                                                                 \n",
      " dense_6 (Dense)             (None, 1)                 51        \n",
      "                                                                 \n",
      "=================================================================\n",
      "Total params: 10751 (42.00 KB)\n",
      "Trainable params: 10751 (42.00 KB)\n",
      "Non-trainable params: 0 (0.00 Byte)\n",
      "_________________________________________________________________\n"
     ]
    }
   ],
   "source": [
    "# Define model for predicting SOH and SOC \n",
    "model = Sequential()\n",
    "\n",
    "# Defining a model for predicting SOH and SOC\n",
    "# model.add(LSTM(50, activation='relu', input_shape=(x_train.shape[1], x_train.shape[2])))\n",
    "model.add(LSTM(50, activation='relu', input_shape=(1, 2)))  # Fixed input shape of (1, 2)\n",
    "\n",
    "# Add LayerNormalization layer\n",
    "model.add(LayerNormalization())\n",
    "\n",
    "model.add(Dense(units=1))  # Output layer for two continuous values: SOC and SOH\n",
    "\n",
    "# Compile model with Adam optimizer and default learning rate\n",
    "model.compile(optimizer='adam', loss='mean_squared_error')\n",
    "\n",
    "# modify the model architecture to have more LSTM layers and dropout\n",
    "# Add LSTM layers with dropout\n",
    "# model.add(LSTM(64, activation='relu', input_shape=(1, 2), return_sequences=True))\n",
    "# model.add(Dropout(0.2))\n",
    "# \n",
    "# model.add(LSTM(32, activation='relu', return_sequences=False))\n",
    "# model.add(Dropout(0.2))\n",
    "# \n",
    "# # Add dense output layer\n",
    "# model.add(Dense(units=2))\n",
    "# \n",
    "# # Compile model\n",
    "# model.compile(optimizer='adam', loss='mean_squared_error')\n",
    "\n",
    "# NOTE: .summary() is a method used in Keras, a high-level deep learning library, to display a summary of the neural network model's architecture. it will print out the layer name, layer type, output shape, number of parameters and trainable/non-trainable params\n",
    "model.summary()\n"
   ],
   "metadata": {
    "collapsed": false,
    "ExecuteTime": {
     "end_time": "2024-03-07T00:57:52.196515800Z",
     "start_time": "2024-03-07T00:57:51.993381100Z"
    }
   },
   "id": "940d00ddbf62df1c",
   "execution_count": 19
  },
  {
   "cell_type": "code",
   "execution_count": 20,
   "outputs": [
    {
     "name": "stdout",
     "output_type": "stream",
     "text": [
      "Epoch 1/10\n",
      "41024/41024 [==============================] - 170s 4ms/step - loss: 400.8441 - val_loss: 402.5370\n",
      "Epoch 2/10\n",
      "41024/41024 [==============================] - 111s 3ms/step - loss: 400.8058 - val_loss: 402.3494\n",
      "Epoch 3/10\n",
      "41024/41024 [==============================] - 110s 3ms/step - loss: 400.8022 - val_loss: 402.3282\n",
      "Epoch 4/10\n",
      "41024/41024 [==============================] - 111s 3ms/step - loss: 400.8007 - val_loss: 402.3479\n",
      "Epoch 5/10\n",
      "41024/41024 [==============================] - 115s 3ms/step - loss: 400.7974 - val_loss: 402.3920\n",
      "Epoch 6/10\n",
      "41024/41024 [==============================] - 118s 3ms/step - loss: 400.7961 - val_loss: 402.3476\n",
      "Epoch 7/10\n",
      "41024/41024 [==============================] - 119s 3ms/step - loss: 400.7958 - val_loss: 402.3354\n",
      "Epoch 8/10\n",
      "41024/41024 [==============================] - 120s 3ms/step - loss: 400.7958 - val_loss: 402.3396\n",
      "Epoch 9/10\n",
      "41024/41024 [==============================] - 120s 3ms/step - loss: 400.7955 - val_loss: 402.3320\n",
      "Epoch 10/10\n",
      "41024/41024 [==============================] - 118s 3ms/step - loss: 400.7898 - val_loss: 402.3331\n"
     ]
    },
    {
     "data": {
      "text/plain": "<Figure size 640x480 with 1 Axes>",
      "image/png": "[encoded data removed]"
     },
     "metadata": {},
     "output_type": "display_data"
    }
   ],
   "source": [
    "# Train the model and store the history\n",
    "# history = model.fit(X_train_seq, y_train_seq, epochs=10, batch_size=32, validation_data=(X_test_seq, y_test_seq))\n",
    "# Train the model using the reshaped training data\n",
    "history = model.fit(X_train_reshaped, y_train_seq, epochs=10, batch_size=32, validation_data=(X_test_reshaped, y_test_seq))\n",
    "\n",
    "# Extract loss values from the history\n",
    "train_loss = history.history['loss']\n",
    "val_loss = history.history['val_loss']\n",
    "epochs = range(1, len(train_loss) + 1)\n",
    "\n",
    "# Plotting the loss\n",
    "plt.plot(epochs, train_loss, 'b', label='Training loss')\n",
    "plt.plot(epochs, val_loss, 'r', label='Validation loss')\n",
    "plt.title('Training and validation loss')\n",
    "plt.xlabel('Epochs')\n",
    "plt.ylabel('Loss')\n",
    "plt.legend()\n",
    "plt.show()\n",
    "\n",
    "# TODO: THINGS TO CONSIDER FOR FINE-TUNING HYPERPARAMETERS\n",
    "# TODO: 1) consider altering the depth of the network. currently we have 1 hidden layer \n",
    "# TODO: 2) consider altering the width of the network. currently there are 50 nodes \n",
    "# TODO: 3) consider altering the activation function. right now it is set to be relu \n",
    "# TODO: 4) consider altering the optimizer. right now it is set to Adam\n",
    "# TODO: 5) consider altering the number of epochs "
   ],
   "metadata": {
    "collapsed": false,
    "ExecuteTime": {
     "end_time": "2024-03-07T01:18:09.918896Z",
     "start_time": "2024-03-07T00:57:56.828221700Z"
    }
   },
   "id": "70d94be70f226a9e"
  },
  {
   "cell_type": "markdown",
   "source": [
    "# Test Model / Predict"
   ],
   "metadata": {
    "collapsed": false
   },
   "id": "f1eb6fef4085f143"
  },
  {
   "cell_type": "code",
   "outputs": [
    {
     "name": "stdout",
     "output_type": "stream",
     "text": [
      "32/32 [==============================] - 0s 2ms/step - loss: 20.2490\n",
      "Test Loss: 20.24895668029785\n",
      "32/32 [==============================] - 0s 2ms/step\n"
     ]
    }
   ],
   "source": [
    "# Preprocess and create sequences for new data\n",
    "# TODO: once loaded onto the microcontroller, new_data will be the sensor reading \n",
    "# new_data_scaled = scaler.transform(new_data)\n",
    "# new_X_seq, _ = create_sequences(new_data_scaled, seq_length)\n",
    "\n",
    "# Reshape input data for LSTM\n",
    "x_test_reshaped = X_test_seq.reshape((X_test_seq.shape[0], X_test_seq.shape[1], X_test_seq.shape[2]))\n",
    "\n",
    "# Evaluate the model\n",
    "loss = model.evaluate(x_test_reshaped, y_test_seq)\n",
    "print(\"Test Loss:\", loss)\n",
    "\n",
    "# Make predictions\n",
    "predictions = model.predict(x_test_reshaped)\n"
   ],
   "metadata": {
    "collapsed": false,
    "ExecuteTime": {
     "end_time": "2024-03-04T19:27:26.084249500Z",
     "start_time": "2024-03-04T19:27:25.380920100Z"
    }
   },
   "id": "2ed92145cdf43e4b",
   "execution_count": 10
  },
  {
   "cell_type": "markdown",
   "source": [
    "# Save Model and Export (Optimize for Size)"
   ],
   "metadata": {
    "collapsed": false
   },
   "id": "7b5ce97d3ad60835"
  },
  {
   "cell_type": "code",
   "outputs": [
    {
     "name": "stdout",
     "output_type": "stream",
     "text": [
      "Loaded Keras model\n",
      "INFO:tensorflow:Assets written to: C:\\Users\\Caiti\\AppData\\Local\\Temp\\tmpj0y_kaab\\assets\n"
     ]
    },
    {
     "name": "stderr",
     "output_type": "stream",
     "text": [
      "INFO:tensorflow:Assets written to: C:\\Users\\Caiti\\AppData\\Local\\Temp\\tmpj0y_kaab\\assets\n"
     ]
    },
    {
     "name": "stdout",
     "output_type": "stream",
     "text": [
      "Model converted to TensorFlow Lite successfully\n"
     ]
    }
   ],
   "source": [
    "# # Model Export\n",
    "# save Keras model\n",
    "# model.save(\"model_file_name\" +'.h5')\n",
    "# \n",
    "# # Convert Keras model to a TensorFlow Lite model \n",
    "# converter = tf.lite.TFLiteConverter.from_keras_model(model)\n",
    "# \n",
    "# # Disable experimental lowering of tensor list ops\n",
    "# converter._experimental_lower_tensor_list_ops = False\n",
    "# \n",
    "# # Specify to use select TensorFlow ops\n",
    "# converter.target_spec.supported_ops = [tf.lite.OpsSet.TFLITE_BUILTINS, tf.lite.OpsSet.SELECT_TF_OPS]\n",
    "# \n",
    "# # Convert the model\n",
    "# tflite_model = converter.convert()\n",
    "# \n",
    "# # Save the TensorFlow Lite model to a file\n",
    "# with open(\"model_file_name.tflite\", 'wb') as f:\n",
    "#     f.write(tflite_model)\n",
    "\n",
    "# Convert Keras model to TensorFlow Lite model\n",
    "# converter = tf.lite.TFLiteConverter.from_keras_model(model)\n",
    "# \n",
    "# # Specify to use select TensorFlow ops\n",
    "# converter.target_spec.supported_ops = [tf.lite.OpsSet.TFLITE_BUILTINS, tf.lite.OpsSet.SELECT_TF_OPS]\n",
    "# \n",
    "# # Disable experimental lowering of tensor list ops\n",
    "# converter._experimental_lower_tensor_list_ops = False\n",
    "# \n",
    "# # Convert the model\n",
    "# tflite_model = converter.convert()\n",
    "# \n",
    "# # Save the TensorFlow Lite model to a file\n",
    "# with open(\"model_file_name.tflite\", 'wb') as f:\n",
    "#     f.write(tflite_model)\n",
    "#     \n",
    "# # Load the TensorFlow Lite model\n",
    "# interpreter = tf.lite.Interpreter(model_path=\"model_file_name.tflite\")\n",
    "# interpreter.allocate_tensors()\n",
    "# \n",
    "# # Print input and output details\n",
    "# input_details = interpreter.get_input_details()\n",
    "# output_details = interpreter.get_output_details()\n",
    "# \n",
    "# print(\"Input details:\", input_details)\n",
    "# print(\"Output details:\", output_details)\n",
    "\n",
    "# Load the Keras model\n",
    "model = tf.keras.models.load_model(\"model_file_name.h5\")\n",
    "\n",
    "# Debugging with Logging\n",
    "print(\"Loaded Keras model\")\n",
    "\n",
    "# Convert Keras model to TensorFlow Lite model\n",
    "converter = tf.lite.TFLiteConverter.from_keras_model(model)\n",
    "\n",
    "# Disable experimental lowering of tensor list ops\n",
    "converter._experimental_lower_tensor_list_ops = False\n",
    "\n",
    "# Specify to use select TensorFlow ops\n",
    "converter.target_spec.supported_ops = [tf.lite.OpsSet.TFLITE_BUILTINS, tf.lite.OpsSet.SELECT_TF_OPS]\n",
    "\n",
    "# Convert the model\n",
    "try:\n",
    "    tflite_model = converter.convert()\n",
    "    print(\"Model converted to TensorFlow Lite successfully\")\n",
    "except Exception as e:\n",
    "    print(\"Error during model conversion:\", e)\n",
    "\n",
    "# Save the TensorFlow Lite model to a file\n",
    "with open(\"model_file_name.tflite\", 'wb') as f:\n",
    "    f.write(tflite_model)\n",
    "\n",
    "\n",
    "# TODO: see if we can minimize the size of the tflite file in this block "
   ],
   "metadata": {
    "collapsed": false,
    "ExecuteTime": {
     "end_time": "2024-02-26T14:42:56.901650400Z",
     "start_time": "2024-02-26T14:42:53.384992600Z"
    }
   },
   "id": "be97f5b333a0465e",
   "execution_count": 11
  },
  {
   "cell_type": "code",
   "execution_count": null,
   "outputs": [],
   "source": [],
   "metadata": {
    "collapsed": false
   },
   "id": "92a7f670f71a6f18"
  }
 ],
 "metadata": {
  "kernelspec": {
   "display_name": "Python 3",
   "language": "python",
   "name": "python3"
  },
  "language_info": {
   "codemirror_mode": {
    "name": "ipython",
    "version": 2
   },
   "file_extension": ".py",
   "mimetype": "text/x-python",
   "name": "python",
   "nbconvert_exporter": "python",
   "pygments_lexer": "ipython2",
   "version": "2.7.6"
  }
 },
 "nbformat": 4,
 "nbformat_minor": 5
}

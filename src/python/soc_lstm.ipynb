{
 "cells": [
  {
   "cell_type": "markdown",
   "source": [
    "# Import Libraries"
   ],
   "metadata": {
    "collapsed": false
   },
   "id": "d6a4133cfdb0184d"
  },
  {
   "cell_type": "code",
   "outputs": [],
   "source": [
    "import pandas as pd\n",
    "import numpy as np\n",
    "import matplotlib.pyplot as plt\n",
    "import seaborn as sns\n",
    "\n",
    "from tensorflow import keras\n",
    "from keras.models import Sequential\n",
    "from keras.layers import Dense\n",
    "from keras.layers import LSTM\n",
    "from sklearn.model_selection import train_test_split\n",
    "\n",
    "# adding new libraries\n",
    "import tensorflow as tf \n",
    "from tensorflow.keras.models import Sequential \n",
    "from tensorflow.keras.layers import Flatten \n",
    "from tensorflow.keras.layers import Dense, Dropout \n",
    "from tensorflow.keras.layers import Activation \n",
    "from tensorflow.keras import layers, Input\n",
    "from tensorflow.keras.regularizers import l1, l2\n",
    "from sklearn.model_selection import train_test_split\n",
    "from sklearn.preprocessing import MinMaxScaler  # Import MinMaxScaler\n",
    "from tensorflow.keras.optimizers import Adam\n",
    "from keras.optimizers import SGD\n",
    "from tensorflow.keras.losses import MeanAbsoluteError\n"
   ],
   "metadata": {
    "collapsed": false,
    "ExecuteTime": {
     "end_time": "2024-02-09T00:33:55.121212800Z",
     "start_time": "2024-02-09T00:33:55.074334700Z"
    }
   },
   "id": "3bb5f57e7bcf1ed4",
   "execution_count": 12
  },
  {
   "cell_type": "markdown",
   "source": [
    "# Import Data"
   ],
   "metadata": {
    "collapsed": false
   },
   "id": "382394fc93f24d78"
  },
  {
   "cell_type": "code",
   "execution_count": 13,
   "id": "initial_id",
   "metadata": {
    "collapsed": true,
    "ExecuteTime": {
     "end_time": "2024-02-09T00:33:58.558093Z",
     "start_time": "2024-02-09T00:33:57.064165400Z"
    }
   },
   "outputs": [
    {
     "data": {
      "text/plain": "                  V             I           SOC        T_surf           SOH\ncount  1.640946e+06  1.640946e+06  1.640946e+06  1.640946e+06  1.640946e+06\nmean   3.471013e+00  3.610140e+00  4.188879e+01  5.180549e+01  8.566437e+01\nstd    8.445745e-01  2.830966e+01  4.022232e+01  2.451698e+01  9.026790e+00\nmin   -9.394656e-01 -5.500295e+01 -5.753759e+00  2.499965e+01  7.000000e+01\n25%    3.144859e+00 -1.900000e+01  1.230206e+00  2.583835e+01  7.800000e+01\n50%    3.693897e+00  5.000000e+00  3.474387e+01  4.826449e+01  8.600000e+01\n75%    4.064538e+00  2.600000e+01  8.456010e+01  7.304868e+01  9.400000e+01\nmax    4.723157e+00  5.500289e+01  1.070423e+02  1.015903e+02  1.000000e+02",
      "text/html": "<div>\n<style scoped>\n    .dataframe tbody tr th:only-of-type {\n        vertical-align: middle;\n    }\n\n    .dataframe tbody tr th {\n        vertical-align: top;\n    }\n\n    .dataframe thead th {\n        text-align: right;\n    }\n</style>\n<table border=\"1\" class=\"dataframe\">\n  <thead>\n    <tr style=\"text-align: right;\">\n      <th></th>\n      <th>V</th>\n      <th>I</th>\n      <th>SOC</th>\n      <th>T_surf</th>\n      <th>SOH</th>\n    </tr>\n  </thead>\n  <tbody>\n    <tr>\n      <th>count</th>\n      <td>1.640946e+06</td>\n      <td>1.640946e+06</td>\n      <td>1.640946e+06</td>\n      <td>1.640946e+06</td>\n      <td>1.640946e+06</td>\n    </tr>\n    <tr>\n      <th>mean</th>\n      <td>3.471013e+00</td>\n      <td>3.610140e+00</td>\n      <td>4.188879e+01</td>\n      <td>5.180549e+01</td>\n      <td>8.566437e+01</td>\n    </tr>\n    <tr>\n      <th>std</th>\n      <td>8.445745e-01</td>\n      <td>2.830966e+01</td>\n      <td>4.022232e+01</td>\n      <td>2.451698e+01</td>\n      <td>9.026790e+00</td>\n    </tr>\n    <tr>\n      <th>min</th>\n      <td>-9.394656e-01</td>\n      <td>-5.500295e+01</td>\n      <td>-5.753759e+00</td>\n      <td>2.499965e+01</td>\n      <td>7.000000e+01</td>\n    </tr>\n    <tr>\n      <th>25%</th>\n      <td>3.144859e+00</td>\n      <td>-1.900000e+01</td>\n      <td>1.230206e+00</td>\n      <td>2.583835e+01</td>\n      <td>7.800000e+01</td>\n    </tr>\n    <tr>\n      <th>50%</th>\n      <td>3.693897e+00</td>\n      <td>5.000000e+00</td>\n      <td>3.474387e+01</td>\n      <td>4.826449e+01</td>\n      <td>8.600000e+01</td>\n    </tr>\n    <tr>\n      <th>75%</th>\n      <td>4.064538e+00</td>\n      <td>2.600000e+01</td>\n      <td>8.456010e+01</td>\n      <td>7.304868e+01</td>\n      <td>9.400000e+01</td>\n    </tr>\n    <tr>\n      <th>max</th>\n      <td>4.723157e+00</td>\n      <td>5.500289e+01</td>\n      <td>1.070423e+02</td>\n      <td>1.015903e+02</td>\n      <td>1.000000e+02</td>\n    </tr>\n  </tbody>\n</table>\n</div>"
     },
     "execution_count": 13,
     "metadata": {},
     "output_type": "execute_result"
    }
   ],
   "source": [
    "# df = pd.read_csv('../../res/model_data/batemo_model_data.csv')\n",
    "# df = df.drop('SOH', axis=1) # Remove SOH from input data\n",
    "# \n",
    "# # add moving averages of V, I, SOC, and T_surface to the input data\n",
    "# df['V_ma'] = df['V'].rolling(window=10).mean()\n",
    "# df['I_ma'] = df['I'].rolling(window=10).mean()\n",
    "# df['T_surf_ma'] = df['T_surf'].rolling(window=10).mean()\n",
    "# \n",
    "# # drop the first 10 rows of the data since the moving averages are NaN for the first 10 rows\n",
    "# df = df.dropna()\n",
    "# \n",
    "# df\n",
    "\n",
    "# Import Data\n",
    "df = pd.read_csv('../../res/model_data/batemo_model_data.csv')\n",
    "df.describe()\n"
   ]
  },
  {
   "cell_type": "markdown",
   "source": [
    "# Train Test Split"
   ],
   "metadata": {
    "collapsed": false
   },
   "id": "f43256173a46820c"
  },
  {
   "cell_type": "code",
   "outputs": [
    {
     "data": {
      "text/plain": "                V          I         SOC      T_surf  SOH\n0        4.200000   0.000000  100.000000   25.000000  100\n1        4.198758  -0.225199  100.000000   25.000000  100\n2        4.197524  -0.449161  100.000000   25.000000  100\n3        4.196296  -0.671867  100.000000   25.000000  100\n4        4.190443  -1.733425  100.000000   25.000000  100\n...           ...        ...         ...         ...  ...\n1640941  3.040704 -41.000000   14.330671   95.558472   70\n1640942  3.019722 -41.000000   13.112293   96.489709   70\n1640943  2.985720 -41.000000   11.355930   97.840139   70\n1640944  2.945987 -41.000000    9.599568   99.207108   70\n1640945  2.899612 -41.000000    7.843205  100.599081   70\n\n[1640946 rows x 5 columns]",
      "text/html": "<div>\n<style scoped>\n    .dataframe tbody tr th:only-of-type {\n        vertical-align: middle;\n    }\n\n    .dataframe tbody tr th {\n        vertical-align: top;\n    }\n\n    .dataframe thead th {\n        text-align: right;\n    }\n</style>\n<table border=\"1\" class=\"dataframe\">\n  <thead>\n    <tr style=\"text-align: right;\">\n      <th></th>\n      <th>V</th>\n      <th>I</th>\n      <th>SOC</th>\n      <th>T_surf</th>\n      <th>SOH</th>\n    </tr>\n  </thead>\n  <tbody>\n    <tr>\n      <th>0</th>\n      <td>4.200000</td>\n      <td>0.000000</td>\n      <td>100.000000</td>\n      <td>25.000000</td>\n      <td>100</td>\n    </tr>\n    <tr>\n      <th>1</th>\n      <td>4.198758</td>\n      <td>-0.225199</td>\n      <td>100.000000</td>\n      <td>25.000000</td>\n      <td>100</td>\n    </tr>\n    <tr>\n      <th>2</th>\n      <td>4.197524</td>\n      <td>-0.449161</td>\n      <td>100.000000</td>\n      <td>25.000000</td>\n      <td>100</td>\n    </tr>\n    <tr>\n      <th>3</th>\n      <td>4.196296</td>\n      <td>-0.671867</td>\n      <td>100.000000</td>\n      <td>25.000000</td>\n      <td>100</td>\n    </tr>\n    <tr>\n      <th>4</th>\n      <td>4.190443</td>\n      <td>-1.733425</td>\n      <td>100.000000</td>\n      <td>25.000000</td>\n      <td>100</td>\n    </tr>\n    <tr>\n      <th>...</th>\n      <td>...</td>\n      <td>...</td>\n      <td>...</td>\n      <td>...</td>\n      <td>...</td>\n    </tr>\n    <tr>\n      <th>1640941</th>\n      <td>3.040704</td>\n      <td>-41.000000</td>\n      <td>14.330671</td>\n      <td>95.558472</td>\n      <td>70</td>\n    </tr>\n    <tr>\n      <th>1640942</th>\n      <td>3.019722</td>\n      <td>-41.000000</td>\n      <td>13.112293</td>\n      <td>96.489709</td>\n      <td>70</td>\n    </tr>\n    <tr>\n      <th>1640943</th>\n      <td>2.985720</td>\n      <td>-41.000000</td>\n      <td>11.355930</td>\n      <td>97.840139</td>\n      <td>70</td>\n    </tr>\n    <tr>\n      <th>1640944</th>\n      <td>2.945987</td>\n      <td>-41.000000</td>\n      <td>9.599568</td>\n      <td>99.207108</td>\n      <td>70</td>\n    </tr>\n    <tr>\n      <th>1640945</th>\n      <td>2.899612</td>\n      <td>-41.000000</td>\n      <td>7.843205</td>\n      <td>100.599081</td>\n      <td>70</td>\n    </tr>\n  </tbody>\n</table>\n<p>1640946 rows × 5 columns</p>\n</div>"
     },
     "execution_count": 14,
     "metadata": {},
     "output_type": "execute_result"
    }
   ],
   "source": [
    "# split data to be 80% training and 20% testing using sklearn\n",
    "# train, test = train_test_split(df, test_size=0.2)\n",
    "# \n",
    "# # define the input vectors and the corresponding labels \n",
    "# # SOC from the input data is our corresponding label Y and all other data is the input features X\n",
    "# X_train = train.drop('SOC', axis=1)\n",
    "# Y_train = train['SOC']\n",
    "# X_test = test.drop('SOC', axis=1)\n",
    "# Y_test = test['SOC']\n",
    "\n",
    "# Define training variables\n",
    "X = df[['V', 'I', 'T_surf']]\n",
    "Y = df[['SOC', 'SOH']]\n",
    "\n",
    "# Split the data into training and testing\n",
    "x_train, x_test, y_train, y_test = train_test_split(X, Y, test_size=0.2, random_state=42)\n",
    "\n",
    "# Reshape input data for LSTM\n",
    "x_train = x_train.values.reshape((x_train.shape[0], x_train.shape[1], 1))\n",
    "x_test = x_test.values.reshape((x_test.shape[0], x_test.shape[1], 1))\n",
    "\n",
    "df"
   ],
   "metadata": {
    "collapsed": false,
    "ExecuteTime": {
     "end_time": "2024-02-09T00:34:04.831964800Z",
     "start_time": "2024-02-09T00:34:04.503818700Z"
    }
   },
   "id": "fec8c5f154adcc8a",
   "execution_count": 14
  },
  {
   "cell_type": "markdown",
   "source": [
    "# Fit Model"
   ],
   "metadata": {
    "collapsed": false
   },
   "id": "bca6a6d9d787af94"
  },
  {
   "cell_type": "code",
   "outputs": [
    {
     "name": "stdout",
     "output_type": "stream",
     "text": [
      "Model: \"sequential_4\"\n",
      "_________________________________________________________________\n",
      " Layer (type)                Output Shape              Param #   \n",
      "=================================================================\n",
      " lstm_4 (LSTM)               (None, 50)                10400     \n",
      "                                                                 \n",
      " dense_4 (Dense)             (None, 2)                 102       \n",
      "                                                                 \n",
      "=================================================================\n",
      "Total params: 10502 (41.02 KB)\n",
      "Trainable params: 10502 (41.02 KB)\n",
      "Non-trainable params: 0 (0.00 Byte)\n",
      "_________________________________________________________________\n",
      "Epoch 1/10\n",
      "41024/41024 - 103s - loss: 34.5174 - val_loss: 18.2999 - 103s/epoch - 3ms/step\n",
      "Epoch 2/10\n",
      "41024/41024 - 105s - loss: 16.5665 - val_loss: 15.8559 - 105s/epoch - 3ms/step\n",
      "Epoch 3/10\n",
      "41024/41024 - 106s - loss: 14.0074 - val_loss: 13.2595 - 106s/epoch - 3ms/step\n",
      "Epoch 4/10\n",
      "41024/41024 - 105s - loss: 13.1796 - val_loss: 14.5710 - 105s/epoch - 3ms/step\n",
      "Epoch 5/10\n",
      "41024/41024 - 105s - loss: 12.7483 - val_loss: 12.9973 - 105s/epoch - 3ms/step\n",
      "Epoch 6/10\n",
      "41024/41024 - 104s - loss: 12.3421 - val_loss: 13.2961 - 104s/epoch - 3ms/step\n",
      "Epoch 7/10\n",
      "41024/41024 - 105s - loss: 12.0281 - val_loss: 11.9974 - 105s/epoch - 3ms/step\n",
      "Epoch 8/10\n",
      "41024/41024 - 104s - loss: 11.7482 - val_loss: 11.9864 - 104s/epoch - 3ms/step\n",
      "Epoch 9/10\n",
      "41024/41024 - 105s - loss: 11.5392 - val_loss: 11.2415 - 105s/epoch - 3ms/step\n",
      "Epoch 10/10\n",
      "41024/41024 - 106s - loss: 11.3417 - val_loss: 10.0777 - 106s/epoch - 3ms/step\n"
     ]
    },
    {
     "data": {
      "text/plain": "<keras.src.callbacks.History at 0x22a3faf0a00>"
     },
     "execution_count": 18,
     "metadata": {},
     "output_type": "execute_result"
    }
   ],
   "source": [
    "# create an LSTM to train our model for finding SOC \n",
    "# define model\n",
    "# model = Sequential()\n",
    "# model.add(LSTM(50, activation='relu', input_shape=(x_train.shape[1], 1)))\n",
    "# model.add(Dense(1))\n",
    "# model.compile(optimizer='adam', loss='mse', metrics=['accuracy'])\n",
    "# model.summary()\n",
    "# model.fit(x_train, y_train, epochs=10, batch_size=32, validation_data=(x_test, y_test), verbose=2)\n",
    "\n",
    "# Define model\n",
    "model = Sequential()\n",
    "model.add(LSTM(50, activation='relu', input_shape=(x_train.shape[1], x_train.shape[2])))\n",
    "model.add(Dense(2))  # Output layer for two continuous values: SOC and SOH\n",
    "model.compile(optimizer='adam', loss='mse')  # Use mean squared error for regression\n",
    "model.summary()\n",
    "# Train the model\n",
    "model.fit(x_train, y_train, epochs=10, batch_size=32, validation_data=(x_test, y_test), verbose=2)\n",
    "\n",
    "# TODO: THINGS TO CONSIDER FOR FINE-TUNING HYPERPARAMETERS\n",
    "# TODO: 1) consider altering the depth of the network. currently we have 1 hidden layer w/ 50 nodes \n",
    "# TODO: 2) consider altering the width of the network. current there are 50 nodes, but that could be fine-tuned \n",
    "# TODO: 3) consider altering the activation function. right now it is set to be relu \n",
    "# TODO: 4) consider altering the optimizier. right now it is set to Adam\n",
    "# TODO: 5) consider altering the number of epochs "
   ],
   "metadata": {
    "collapsed": false,
    "ExecuteTime": {
     "end_time": "2024-02-09T01:47:45.622333300Z",
     "start_time": "2024-02-09T01:30:18.080569500Z"
    }
   },
   "id": "940d00ddbf62df1c",
   "execution_count": 18
  },
  {
   "cell_type": "markdown",
   "source": [
    "# Test Model / Predict"
   ],
   "metadata": {
    "collapsed": false
   },
   "id": "f1eb6fef4085f143"
  },
  {
   "cell_type": "code",
   "outputs": [
    {
     "name": "stdout",
     "output_type": "stream",
     "text": [
      "\u001B[1m4581/4581\u001B[0m \u001B[32m━━━━━━━━━━━━━━━━━━━━\u001B[0m\u001B[37m\u001B[0m \u001B[1m5s\u001B[0m 1ms/step - accuracy: 9.6662e-04 - loss: 0.9400\n"
     ]
    }
   ],
   "source": [
    "# print accuracy\n",
    "stats = model.evaluate(X_test, Y_test, return_dict=True)"
   ],
   "metadata": {
    "collapsed": false,
    "ExecuteTime": {
     "end_time": "2024-02-03T02:06:04.240876700Z",
     "start_time": "2024-02-03T02:05:59.044895800Z"
    }
   },
   "id": "2ed92145cdf43e4b",
   "execution_count": 38
  },
  {
   "cell_type": "code",
   "outputs": [
    {
     "name": "stdout",
     "output_type": "stream",
     "text": [
      "Accuracy: 0.0010439339093863964\n"
     ]
    }
   ],
   "source": [
    "# Print Accuracy and model statistics summary\n",
    "print(f'Accuracy: {stats.get(\"accuracy\")}')"
   ],
   "metadata": {
    "collapsed": false,
    "ExecuteTime": {
     "end_time": "2024-02-03T02:06:04.246886500Z",
     "start_time": "2024-02-03T02:06:04.242872400Z"
    }
   },
   "id": "1501c4a81f63b39",
   "execution_count": 39
  },
  {
   "cell_type": "markdown",
   "source": [
    "# Save Model and Export (Optimize for Size)"
   ],
   "metadata": {
    "collapsed": false
   },
   "id": "7b5ce97d3ad60835"
  },
  {
   "cell_type": "code",
   "outputs": [],
   "source": [],
   "metadata": {
    "collapsed": false
   },
   "id": "be97f5b333a0465e"
  }
 ],
 "metadata": {
  "kernelspec": {
   "display_name": "Python 3",
   "language": "python",
   "name": "python3"
  },
  "language_info": {
   "codemirror_mode": {
    "name": "ipython",
    "version": 2
   },
   "file_extension": ".py",
   "mimetype": "text/x-python",
   "name": "python",
   "nbconvert_exporter": "python",
   "pygments_lexer": "ipython2",
   "version": "2.7.6"
  }
 },
 "nbformat": 4,
 "nbformat_minor": 5
}

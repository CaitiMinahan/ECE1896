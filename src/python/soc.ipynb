{
 "cells": [
  {
   "cell_type": "markdown",
   "source": [
    "# Import Libraries"
   ],
   "metadata": {
    "collapsed": false
   },
   "id": "d6a4133cfdb0184d"
  },
  {
   "cell_type": "code",
   "outputs": [],
   "source": [
    "import pandas as pd\n",
    "import numpy as np\n",
    "import matplotlib.pyplot as plt\n",
    "import seaborn as sns\n",
    "\n",
    "from tensorflow import keras\n",
    "from keras.models import Sequential\n",
    "from keras.layers import Dense\n",
    "from keras.layers import LSTM\n",
    "from sklearn.model_selection import train_test_split"
   ],
   "metadata": {
    "collapsed": false,
    "ExecuteTime": {
     "end_time": "2024-02-03T01:25:51.686102100Z",
     "start_time": "2024-02-03T01:25:51.677126100Z"
    }
   },
   "id": "3bb5f57e7bcf1ed4",
   "execution_count": 6
  },
  {
   "cell_type": "markdown",
   "source": [
    "# Import Data"
   ],
   "metadata": {
    "collapsed": false
   },
   "id": "382394fc93f24d78"
  },
  {
   "cell_type": "code",
   "execution_count": 13,
   "id": "initial_id",
   "metadata": {
    "collapsed": true,
    "ExecuteTime": {
     "end_time": "2024-02-03T01:29:35.266445600Z",
     "start_time": "2024-02-03T01:29:34.731831800Z"
    }
   },
   "outputs": [
    {
     "data": {
      "text/plain": "               V          I         SOC      T_surf\n0       4.200000   0.000000  100.000000   25.000000\n1       4.198758  -0.225199  100.000000   25.000000\n2       4.197524  -0.449161  100.000000   25.000000\n3       4.196296  -0.671867  100.000000   25.000000\n4       4.190443  -1.733425  100.000000   25.000000\n...          ...        ...         ...         ...\n732799  4.347699  40.000000   81.002048   98.977983\n732800  4.348998  40.000000   81.230963   99.143580\n732801  4.350224  40.000000   81.459877   99.309086\n732802  4.353515  40.000000   82.110856   99.779493\n732803  4.356468  40.000000   82.761835  100.249679\n\n[732804 rows x 4 columns]",
      "text/html": "<div>\n<style scoped>\n    .dataframe tbody tr th:only-of-type {\n        vertical-align: middle;\n    }\n\n    .dataframe tbody tr th {\n        vertical-align: top;\n    }\n\n    .dataframe thead th {\n        text-align: right;\n    }\n</style>\n<table border=\"1\" class=\"dataframe\">\n  <thead>\n    <tr style=\"text-align: right;\">\n      <th></th>\n      <th>V</th>\n      <th>I</th>\n      <th>SOC</th>\n      <th>T_surf</th>\n    </tr>\n  </thead>\n  <tbody>\n    <tr>\n      <th>0</th>\n      <td>4.200000</td>\n      <td>0.000000</td>\n      <td>100.000000</td>\n      <td>25.000000</td>\n    </tr>\n    <tr>\n      <th>1</th>\n      <td>4.198758</td>\n      <td>-0.225199</td>\n      <td>100.000000</td>\n      <td>25.000000</td>\n    </tr>\n    <tr>\n      <th>2</th>\n      <td>4.197524</td>\n      <td>-0.449161</td>\n      <td>100.000000</td>\n      <td>25.000000</td>\n    </tr>\n    <tr>\n      <th>3</th>\n      <td>4.196296</td>\n      <td>-0.671867</td>\n      <td>100.000000</td>\n      <td>25.000000</td>\n    </tr>\n    <tr>\n      <th>4</th>\n      <td>4.190443</td>\n      <td>-1.733425</td>\n      <td>100.000000</td>\n      <td>25.000000</td>\n    </tr>\n    <tr>\n      <th>...</th>\n      <td>...</td>\n      <td>...</td>\n      <td>...</td>\n      <td>...</td>\n    </tr>\n    <tr>\n      <th>732799</th>\n      <td>4.347699</td>\n      <td>40.000000</td>\n      <td>81.002048</td>\n      <td>98.977983</td>\n    </tr>\n    <tr>\n      <th>732800</th>\n      <td>4.348998</td>\n      <td>40.000000</td>\n      <td>81.230963</td>\n      <td>99.143580</td>\n    </tr>\n    <tr>\n      <th>732801</th>\n      <td>4.350224</td>\n      <td>40.000000</td>\n      <td>81.459877</td>\n      <td>99.309086</td>\n    </tr>\n    <tr>\n      <th>732802</th>\n      <td>4.353515</td>\n      <td>40.000000</td>\n      <td>82.110856</td>\n      <td>99.779493</td>\n    </tr>\n    <tr>\n      <th>732803</th>\n      <td>4.356468</td>\n      <td>40.000000</td>\n      <td>82.761835</td>\n      <td>100.249679</td>\n    </tr>\n  </tbody>\n</table>\n<p>732804 rows × 4 columns</p>\n</div>"
     },
     "execution_count": 13,
     "metadata": {},
     "output_type": "execute_result"
    }
   ],
   "source": [
    "df = pd.read_csv('../../res/model_data/batemo_model_data.csv')\n",
    "df = df.drop('SOH', axis=1) # Remove SOH from input data\n",
    "df"
   ]
  },
  {
   "cell_type": "markdown",
   "source": [
    "# Train Test Split"
   ],
   "metadata": {
    "collapsed": false
   },
   "id": "f43256173a46820c"
  },
  {
   "cell_type": "code",
   "outputs": [],
   "source": [
    "# split data to be 80% training and 20% testing using sklearn\n",
    "train, test = train_test_split(df, test_size=0.2)\n",
    "\n",
    "# define the input vectors and the corresponding labels \n",
    "# SOC from the input data is our corresponding label Y and all other data is the input features X\n",
    "X_train = train.drop('SOC', axis=1)\n",
    "Y_train = train['SOC']\n",
    "X_test = test.drop('SOC', axis=1)\n",
    "Y_test = test['SOC']"
   ],
   "metadata": {
    "collapsed": false,
    "ExecuteTime": {
     "end_time": "2024-02-03T01:30:56.715348100Z",
     "start_time": "2024-02-03T01:30:56.639555900Z"
    }
   },
   "id": "fec8c5f154adcc8a",
   "execution_count": 16
  },
  {
   "cell_type": "markdown",
   "source": [
    "# Fit Model"
   ],
   "metadata": {
    "collapsed": false
   },
   "id": "bca6a6d9d787af94"
  },
  {
   "cell_type": "code",
   "outputs": [
    {
     "name": "stderr",
     "output_type": "stream",
     "text": [
      "C:\\Users\\14845\\Documents\\ECE1896\\venv_laptop\\lib\\site-packages\\keras\\src\\layers\\rnn\\rnn.py:205: UserWarning:\n",
      "\n",
      "Do not pass an `input_shape`/`input_dim` argument to a layer. When using Sequential models, prefer using an `Input(shape)` object as the first layer in the model instead.\n",
      "\n"
     ]
    },
    {
     "data": {
      "text/plain": "\u001B[1mModel: \"sequential_3\"\u001B[0m\n",
      "text/html": "<pre style=\"white-space:pre;overflow-x:auto;line-height:normal;font-family:Menlo,'DejaVu Sans Mono',consolas,'Courier New',monospace\"><span style=\"font-weight: bold\">Model: \"sequential_3\"</span>\n</pre>\n"
     },
     "metadata": {},
     "output_type": "display_data"
    },
    {
     "data": {
      "text/plain": "┏━━━━━━━━━━━━━━━━━━━━━━━━━━━━━━━━━┳━━━━━━━━━━━━━━━━━━━━━━━━━━━┳━━━━━━━━━━━━┓\n┃\u001B[1m \u001B[0m\u001B[1mLayer (type)                   \u001B[0m\u001B[1m \u001B[0m┃\u001B[1m \u001B[0m\u001B[1mOutput Shape             \u001B[0m\u001B[1m \u001B[0m┃\u001B[1m \u001B[0m\u001B[1m   Param #\u001B[0m\u001B[1m \u001B[0m┃\n┡━━━━━━━━━━━━━━━━━━━━━━━━━━━━━━━━━╇━━━━━━━━━━━━━━━━━━━━━━━━━━━╇━━━━━━━━━━━━┩\n│ lstm_3 (\u001B[38;5;33mLSTM\u001B[0m)                   │ (\u001B[38;5;45mNone\u001B[0m, \u001B[38;5;34m50\u001B[0m)                │     \u001B[38;5;34m10,400\u001B[0m │\n├─────────────────────────────────┼───────────────────────────┼────────────┤\n│ dense_3 (\u001B[38;5;33mDense\u001B[0m)                 │ (\u001B[38;5;45mNone\u001B[0m, \u001B[38;5;34m1\u001B[0m)                 │         \u001B[38;5;34m51\u001B[0m │\n└─────────────────────────────────┴───────────────────────────┴────────────┘\n",
      "text/html": "<pre style=\"white-space:pre;overflow-x:auto;line-height:normal;font-family:Menlo,'DejaVu Sans Mono',consolas,'Courier New',monospace\">┏━━━━━━━━━━━━━━━━━━━━━━━━━━━━━━━━━┳━━━━━━━━━━━━━━━━━━━━━━━━━━━┳━━━━━━━━━━━━┓\n┃<span style=\"font-weight: bold\"> Layer (type)                    </span>┃<span style=\"font-weight: bold\"> Output Shape              </span>┃<span style=\"font-weight: bold\">    Param # </span>┃\n┡━━━━━━━━━━━━━━━━━━━━━━━━━━━━━━━━━╇━━━━━━━━━━━━━━━━━━━━━━━━━━━╇━━━━━━━━━━━━┩\n│ lstm_3 (<span style=\"color: #0087ff; text-decoration-color: #0087ff\">LSTM</span>)                   │ (<span style=\"color: #00d7ff; text-decoration-color: #00d7ff\">None</span>, <span style=\"color: #00af00; text-decoration-color: #00af00\">50</span>)                │     <span style=\"color: #00af00; text-decoration-color: #00af00\">10,400</span> │\n├─────────────────────────────────┼───────────────────────────┼────────────┤\n│ dense_3 (<span style=\"color: #0087ff; text-decoration-color: #0087ff\">Dense</span>)                 │ (<span style=\"color: #00d7ff; text-decoration-color: #00d7ff\">None</span>, <span style=\"color: #00af00; text-decoration-color: #00af00\">1</span>)                 │         <span style=\"color: #00af00; text-decoration-color: #00af00\">51</span> │\n└─────────────────────────────────┴───────────────────────────┴────────────┘\n</pre>\n"
     },
     "metadata": {},
     "output_type": "display_data"
    },
    {
     "data": {
      "text/plain": "\u001B[1m Total params: \u001B[0m\u001B[38;5;34m10,451\u001B[0m (40.82 KB)\n",
      "text/html": "<pre style=\"white-space:pre;overflow-x:auto;line-height:normal;font-family:Menlo,'DejaVu Sans Mono',consolas,'Courier New',monospace\"><span style=\"font-weight: bold\"> Total params: </span><span style=\"color: #00af00; text-decoration-color: #00af00\">10,451</span> (40.82 KB)\n</pre>\n"
     },
     "metadata": {},
     "output_type": "display_data"
    },
    {
     "data": {
      "text/plain": "\u001B[1m Trainable params: \u001B[0m\u001B[38;5;34m10,451\u001B[0m (40.82 KB)\n",
      "text/html": "<pre style=\"white-space:pre;overflow-x:auto;line-height:normal;font-family:Menlo,'DejaVu Sans Mono',consolas,'Courier New',monospace\"><span style=\"font-weight: bold\"> Trainable params: </span><span style=\"color: #00af00; text-decoration-color: #00af00\">10,451</span> (40.82 KB)\n</pre>\n"
     },
     "metadata": {},
     "output_type": "display_data"
    },
    {
     "data": {
      "text/plain": "\u001B[1m Non-trainable params: \u001B[0m\u001B[38;5;34m0\u001B[0m (0.00 B)\n",
      "text/html": "<pre style=\"white-space:pre;overflow-x:auto;line-height:normal;font-family:Menlo,'DejaVu Sans Mono',consolas,'Courier New',monospace\"><span style=\"font-weight: bold\"> Non-trainable params: </span><span style=\"color: #00af00; text-decoration-color: #00af00\">0</span> (0.00 B)\n</pre>\n"
     },
     "metadata": {},
     "output_type": "display_data"
    },
    {
     "name": "stdout",
     "output_type": "stream",
     "text": [
      "Epoch 1/10\n",
      "18321/18321 - 36s - 2ms/step - accuracy: 5.5949e-04 - loss: 27.4498 - val_accuracy: 5.8679e-04 - val_loss: 3.5051\n",
      "Epoch 2/10\n",
      "18321/18321 - 34s - 2ms/step - accuracy: 6.9937e-04 - loss: 2.6085 - val_accuracy: 0.0010 - val_loss: 2.2087\n",
      "Epoch 3/10\n",
      "18321/18321 - 35s - 2ms/step - accuracy: 7.8636e-04 - loss: 1.8842 - val_accuracy: 0.0010 - val_loss: 1.4197\n",
      "Epoch 4/10\n",
      "18321/18321 - 34s - 2ms/step - accuracy: 8.3071e-04 - loss: 1.6595 - val_accuracy: 0.0010 - val_loss: 1.4192\n",
      "Epoch 5/10\n",
      "18321/18321 - 34s - 2ms/step - accuracy: 8.4265e-04 - loss: 1.4751 - val_accuracy: 0.0010 - val_loss: 1.3592\n",
      "Epoch 6/10\n",
      "18321/18321 - 39s - 2ms/step - accuracy: 8.9553e-04 - loss: 1.3714 - val_accuracy: 0.0010 - val_loss: 1.3133\n",
      "Epoch 7/10\n"
     ]
    }
   ],
   "source": [
    "# create an LSTM to train our model for finding SOC \n",
    "# define model\n",
    "model = Sequential()\n",
    "model.add(LSTM(50, activation='relu', input_shape=(X_train.shape[1], 1)))\n",
    "model.add(Dense(1))\n",
    "model.compile(optimizer='adam', loss='mse', metrics=['accuracy'])\n",
    "model.summary()\n",
    "model.fit(X_train, Y_train, epochs=10, batch_size=32, validation_data=(X_test, Y_test), verbose=2)"
   ],
   "metadata": {
    "collapsed": false,
    "is_executing": true,
    "ExecuteTime": {
     "start_time": "2024-02-03T01:59:23.877848100Z"
    }
   },
   "id": "940d00ddbf62df1c",
   "execution_count": null
  },
  {
   "cell_type": "markdown",
   "source": [
    "# Test Model / Predict"
   ],
   "metadata": {
    "collapsed": false
   },
   "id": "f1eb6fef4085f143"
  },
  {
   "cell_type": "code",
   "outputs": [
    {
     "name": "stdout",
     "output_type": "stream",
     "text": [
      "\u001B[1m4581/4581\u001B[0m \u001B[32m━━━━━━━━━━━━━━━━━━━━\u001B[0m\u001B[37m\u001B[0m \u001B[1m7s\u001B[0m 1ms/step - accuracy: 9.6662e-04 - loss: 1.8586\n"
     ]
    }
   ],
   "source": [
    "# print accuracy\n",
    "stats = model.evaluate(X_test, Y_test, return_dict=True)"
   ],
   "metadata": {
    "collapsed": false,
    "ExecuteTime": {
     "end_time": "2024-02-03T01:58:48.713343900Z",
     "start_time": "2024-02-03T01:58:41.969959700Z"
    }
   },
   "id": "2ed92145cdf43e4b",
   "execution_count": 35
  },
  {
   "cell_type": "code",
   "outputs": [
    {
     "name": "stdout",
     "output_type": "stream",
     "text": [
      "Accuracy: 0.0010439339093863964\n"
     ]
    }
   ],
   "source": [
    "# Print Accuracy and model statistics summary\n",
    "print(f'Accuracy: {stats.get(\"accuracy\")}')"
   ],
   "metadata": {
    "collapsed": false,
    "ExecuteTime": {
     "end_time": "2024-02-03T01:58:48.721357800Z",
     "start_time": "2024-02-03T01:58:48.714339600Z"
    }
   },
   "id": "1501c4a81f63b39",
   "execution_count": 36
  },
  {
   "cell_type": "markdown",
   "source": [
    "# Save Model and Export (Optimize for Size)"
   ],
   "metadata": {
    "collapsed": false
   },
   "id": "7b5ce97d3ad60835"
  },
  {
   "cell_type": "code",
   "outputs": [],
   "source": [],
   "metadata": {
    "collapsed": false
   },
   "id": "be97f5b333a0465e"
  }
 ],
 "metadata": {
  "kernelspec": {
   "display_name": "Python 3",
   "language": "python",
   "name": "python3"
  },
  "language_info": {
   "codemirror_mode": {
    "name": "ipython",
    "version": 2
   },
   "file_extension": ".py",
   "mimetype": "text/x-python",
   "name": "python",
   "nbconvert_exporter": "python",
   "pygments_lexer": "ipython2",
   "version": "2.7.6"
  }
 },
 "nbformat": 4,
 "nbformat_minor": 5
}

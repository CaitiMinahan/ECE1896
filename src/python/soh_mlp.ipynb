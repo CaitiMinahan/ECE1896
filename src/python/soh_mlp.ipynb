{
 "cells": [
  {
   "cell_type": "markdown",
   "source": [
    "# Multilayer Perceptron (MLP) for Battery Management System (BMS) SOH Estimation\n",
    "\n",
    "<img src=\"../../doc/img/MachineLearningNetwork.png\" height=\"1080\" width=\"1920\"\n",
    "     alt=\"Machine Learning Network\"\n",
    "     style=\"fit: left; margin-right: 10px;\"  />"
   ],
   "metadata": {
    "collapsed": false
   },
   "id": "cc5abf14b8daa24f"
  },
  {
   "cell_type": "markdown",
   "source": [
    "# Importing Libraries"
   ],
   "metadata": {
    "collapsed": false
   },
   "id": "5ef98a304af93377"
  },
  {
   "cell_type": "code",
   "execution_count": 14,
   "outputs": [],
   "source": [
    "# Importing Libraries\n",
    "import numpy as np\n",
    "import pandas as pd\n",
    "import matplotlib.pyplot as plt \n",
    "\n",
    "import tensorflow as tf \n",
    "from tensorflow.keras.models import Sequential \n",
    "from tensorflow.keras.layers import Flatten \n",
    "from tensorflow.keras.layers import Dense, Dropout \n",
    "from tensorflow.keras.layers import Activation \n",
    "from tensorflow.keras import layers, Input\n",
    "from tensorflow.keras.regularizers import l1, l2\n",
    "from sklearn.model_selection import train_test_split"
   ],
   "metadata": {
    "collapsed": false,
    "ExecuteTime": {
     "end_time": "2024-02-07T03:21:52.813919500Z",
     "start_time": "2024-02-07T03:21:52.802744500Z"
    }
   },
   "id": "eee4c6b84dd76d1e"
  },
  {
   "cell_type": "markdown",
   "source": [
    "# Import Data"
   ],
   "metadata": {
    "collapsed": false
   },
   "id": "a8bbfe302bef570e"
  },
  {
   "cell_type": "code",
   "execution_count": 15,
   "outputs": [
    {
     "data": {
      "text/plain": "                  V             I           SOC        T_surf           SOH\ncount  1.640946e+06  1.640946e+06  1.640946e+06  1.640946e+06  1.640946e+06\nmean   3.471013e+00  3.610140e+00  4.188879e+01  5.180549e+01  8.566437e+01\nstd    8.445745e-01  2.830966e+01  4.022232e+01  2.451698e+01  9.026790e+00\nmin   -9.394656e-01 -5.500295e+01 -5.753759e+00  2.499965e+01  7.000000e+01\n25%    3.144859e+00 -1.900000e+01  1.230206e+00  2.583835e+01  7.800000e+01\n50%    3.693897e+00  5.000000e+00  3.474387e+01  4.826449e+01  8.600000e+01\n75%    4.064538e+00  2.600000e+01  8.456010e+01  7.304868e+01  9.400000e+01\nmax    4.723157e+00  5.500289e+01  1.070423e+02  1.015903e+02  1.000000e+02",
      "text/html": "<div>\n<style scoped>\n    .dataframe tbody tr th:only-of-type {\n        vertical-align: middle;\n    }\n\n    .dataframe tbody tr th {\n        vertical-align: top;\n    }\n\n    .dataframe thead th {\n        text-align: right;\n    }\n</style>\n<table border=\"1\" class=\"dataframe\">\n  <thead>\n    <tr style=\"text-align: right;\">\n      <th></th>\n      <th>V</th>\n      <th>I</th>\n      <th>SOC</th>\n      <th>T_surf</th>\n      <th>SOH</th>\n    </tr>\n  </thead>\n  <tbody>\n    <tr>\n      <th>count</th>\n      <td>1.640946e+06</td>\n      <td>1.640946e+06</td>\n      <td>1.640946e+06</td>\n      <td>1.640946e+06</td>\n      <td>1.640946e+06</td>\n    </tr>\n    <tr>\n      <th>mean</th>\n      <td>3.471013e+00</td>\n      <td>3.610140e+00</td>\n      <td>4.188879e+01</td>\n      <td>5.180549e+01</td>\n      <td>8.566437e+01</td>\n    </tr>\n    <tr>\n      <th>std</th>\n      <td>8.445745e-01</td>\n      <td>2.830966e+01</td>\n      <td>4.022232e+01</td>\n      <td>2.451698e+01</td>\n      <td>9.026790e+00</td>\n    </tr>\n    <tr>\n      <th>min</th>\n      <td>-9.394656e-01</td>\n      <td>-5.500295e+01</td>\n      <td>-5.753759e+00</td>\n      <td>2.499965e+01</td>\n      <td>7.000000e+01</td>\n    </tr>\n    <tr>\n      <th>25%</th>\n      <td>3.144859e+00</td>\n      <td>-1.900000e+01</td>\n      <td>1.230206e+00</td>\n      <td>2.583835e+01</td>\n      <td>7.800000e+01</td>\n    </tr>\n    <tr>\n      <th>50%</th>\n      <td>3.693897e+00</td>\n      <td>5.000000e+00</td>\n      <td>3.474387e+01</td>\n      <td>4.826449e+01</td>\n      <td>8.600000e+01</td>\n    </tr>\n    <tr>\n      <th>75%</th>\n      <td>4.064538e+00</td>\n      <td>2.600000e+01</td>\n      <td>8.456010e+01</td>\n      <td>7.304868e+01</td>\n      <td>9.400000e+01</td>\n    </tr>\n    <tr>\n      <th>max</th>\n      <td>4.723157e+00</td>\n      <td>5.500289e+01</td>\n      <td>1.070423e+02</td>\n      <td>1.015903e+02</td>\n      <td>1.000000e+02</td>\n    </tr>\n  </tbody>\n</table>\n</div>"
     },
     "execution_count": 15,
     "metadata": {},
     "output_type": "execute_result"
    }
   ],
   "source": [
    "# Import Data\n",
    "df = pd.read_csv('../../res/model_data/batemo_model_data.csv')\n",
    "df.describe()"
   ],
   "metadata": {
    "collapsed": false,
    "ExecuteTime": {
     "end_time": "2024-02-07T03:21:55.264122600Z",
     "start_time": "2024-02-07T03:21:54.055046800Z"
    }
   },
   "id": "c6d9ef80915d22ce"
  },
  {
   "cell_type": "markdown",
   "source": [
    "# Data Preprocessing\n",
    "\n",
    "We have to add new columns to the dataset that are the previous values of V, I and T. This will allow our model to detect the trend/gradient of the data."
   ],
   "metadata": {
    "collapsed": false
   },
   "id": "304bf868d2b71216"
  },
  {
   "cell_type": "code",
   "execution_count": 31,
   "outputs": [
    {
     "data": {
      "text/plain": "                V          I         SOC      T_surf  SOH       V-1  \\\n32       3.979128 -40.001522  100.000000   25.000000  100  3.979232   \n33       3.979068 -40.000711  100.000000   25.000000  100  3.979128   \n34       3.979010 -39.999801  100.000000   25.000000  100  3.979068   \n35       3.978947 -39.999732  100.000000   25.000000  100  3.979010   \n36       3.978387 -39.999976   99.999999   25.000000  100  3.978947   \n...           ...        ...         ...         ...  ...       ...   \n1640941  3.040704 -41.000000   14.330671   95.558472   70  3.060165   \n1640942  3.019722 -41.000000   13.112293   96.489709   70  3.040704   \n1640943  2.985720 -41.000000   11.355930   97.840139   70  3.019722   \n1640944  2.945987 -41.000000    9.599568   99.207108   70  2.985720   \n1640945  2.899612 -41.000000    7.843205  100.599081   70  2.945987   \n\n               I-1   T_surf-1  \n32      -39.994236  25.000000  \n33      -40.001522  25.000000  \n34      -40.000711  25.000000  \n35      -39.999801  25.000000  \n36      -39.999732  25.000000  \n...            ...        ...  \n1640941 -41.000000  94.628477  \n1640942 -41.000000  95.558472  \n1640943 -41.000000  96.489709  \n1640944 -41.000000  97.840139  \n1640945 -41.000000  99.207108  \n\n[1616859 rows x 8 columns]",
      "text/html": "<div>\n<style scoped>\n    .dataframe tbody tr th:only-of-type {\n        vertical-align: middle;\n    }\n\n    .dataframe tbody tr th {\n        vertical-align: top;\n    }\n\n    .dataframe thead th {\n        text-align: right;\n    }\n</style>\n<table border=\"1\" class=\"dataframe\">\n  <thead>\n    <tr style=\"text-align: right;\">\n      <th></th>\n      <th>V</th>\n      <th>I</th>\n      <th>SOC</th>\n      <th>T_surf</th>\n      <th>SOH</th>\n      <th>V-1</th>\n      <th>I-1</th>\n      <th>T_surf-1</th>\n    </tr>\n  </thead>\n  <tbody>\n    <tr>\n      <th>32</th>\n      <td>3.979128</td>\n      <td>-40.001522</td>\n      <td>100.000000</td>\n      <td>25.000000</td>\n      <td>100</td>\n      <td>3.979232</td>\n      <td>-39.994236</td>\n      <td>25.000000</td>\n    </tr>\n    <tr>\n      <th>33</th>\n      <td>3.979068</td>\n      <td>-40.000711</td>\n      <td>100.000000</td>\n      <td>25.000000</td>\n      <td>100</td>\n      <td>3.979128</td>\n      <td>-40.001522</td>\n      <td>25.000000</td>\n    </tr>\n    <tr>\n      <th>34</th>\n      <td>3.979010</td>\n      <td>-39.999801</td>\n      <td>100.000000</td>\n      <td>25.000000</td>\n      <td>100</td>\n      <td>3.979068</td>\n      <td>-40.000711</td>\n      <td>25.000000</td>\n    </tr>\n    <tr>\n      <th>35</th>\n      <td>3.978947</td>\n      <td>-39.999732</td>\n      <td>100.000000</td>\n      <td>25.000000</td>\n      <td>100</td>\n      <td>3.979010</td>\n      <td>-39.999801</td>\n      <td>25.000000</td>\n    </tr>\n    <tr>\n      <th>36</th>\n      <td>3.978387</td>\n      <td>-39.999976</td>\n      <td>99.999999</td>\n      <td>25.000000</td>\n      <td>100</td>\n      <td>3.978947</td>\n      <td>-39.999732</td>\n      <td>25.000000</td>\n    </tr>\n    <tr>\n      <th>...</th>\n      <td>...</td>\n      <td>...</td>\n      <td>...</td>\n      <td>...</td>\n      <td>...</td>\n      <td>...</td>\n      <td>...</td>\n      <td>...</td>\n    </tr>\n    <tr>\n      <th>1640941</th>\n      <td>3.040704</td>\n      <td>-41.000000</td>\n      <td>14.330671</td>\n      <td>95.558472</td>\n      <td>70</td>\n      <td>3.060165</td>\n      <td>-41.000000</td>\n      <td>94.628477</td>\n    </tr>\n    <tr>\n      <th>1640942</th>\n      <td>3.019722</td>\n      <td>-41.000000</td>\n      <td>13.112293</td>\n      <td>96.489709</td>\n      <td>70</td>\n      <td>3.040704</td>\n      <td>-41.000000</td>\n      <td>95.558472</td>\n    </tr>\n    <tr>\n      <th>1640943</th>\n      <td>2.985720</td>\n      <td>-41.000000</td>\n      <td>11.355930</td>\n      <td>97.840139</td>\n      <td>70</td>\n      <td>3.019722</td>\n      <td>-41.000000</td>\n      <td>96.489709</td>\n    </tr>\n    <tr>\n      <th>1640944</th>\n      <td>2.945987</td>\n      <td>-41.000000</td>\n      <td>9.599568</td>\n      <td>99.207108</td>\n      <td>70</td>\n      <td>2.985720</td>\n      <td>-41.000000</td>\n      <td>97.840139</td>\n    </tr>\n    <tr>\n      <th>1640945</th>\n      <td>2.899612</td>\n      <td>-41.000000</td>\n      <td>7.843205</td>\n      <td>100.599081</td>\n      <td>70</td>\n      <td>2.945987</td>\n      <td>-41.000000</td>\n      <td>99.207108</td>\n    </tr>\n  </tbody>\n</table>\n<p>1616859 rows × 8 columns</p>\n</div>"
     },
     "execution_count": 31,
     "metadata": {},
     "output_type": "execute_result"
    }
   ],
   "source": [
    "# Data Preprocessing\n",
    "# Round the I column for simplicity\n",
    "df['I_round'] = df['I'].round(0)\n",
    "\n",
    "# Define the columns to shift\n",
    "cols_to_shift = ['V', 'I', 'T_surf']\n",
    "\n",
    "# Apply the shift to the entire dataframe, but only on each unique SOH, I Pair\n",
    "for col in cols_to_shift:\n",
    "    df[col + '-1'] = df.groupby(['SOH', 'I_round'])[col].shift(1)\n",
    "\n",
    "# Drop rows with NaN values and I_round column\n",
    "df = df.dropna()\n",
    "df = df.drop(columns=['I_round'])\n",
    "df"
   ],
   "metadata": {
    "collapsed": false,
    "ExecuteTime": {
     "end_time": "2024-02-07T03:33:42.735304800Z",
     "start_time": "2024-02-07T03:33:42.238579100Z"
    }
   },
   "id": "8f6b400964bd537f"
  },
  {
   "cell_type": "markdown",
   "source": [
    "# Model Training"
   ],
   "metadata": {
    "collapsed": false
   },
   "id": "cbf475749b0d41a5"
  },
  {
   "cell_type": "code",
   "execution_count": 32,
   "outputs": [],
   "source": [
    "# Model Training\n",
    "\n",
    "# Model Training with regularization and dropout\n",
    "model = Sequential([\n",
    "    # input layer\n",
    "    Input(shape=(6, )),\n",
    "\n",
    "    # dense layer 1 with L1 regularization\n",
    "    Dense(256, activation='relu', kernel_regularizer=l1(0.001)),\n",
    "\n",
    "    # dropout layer\n",
    "    Dropout(0.5),\n",
    "\n",
    "    # dense layer 2 with L2 regularization\n",
    "    Dense(128, activation='relu', kernel_regularizer=l2(0.001)),\n",
    "\n",
    "    # dropout layer\n",
    "    Dropout(0.5),\n",
    "\n",
    "    # output layer\n",
    "    Dense(101, activation='relu'),\n",
    "])\n"
   ],
   "metadata": {
    "collapsed": false,
    "ExecuteTime": {
     "end_time": "2024-02-07T03:33:42.762154400Z",
     "start_time": "2024-02-07T03:33:42.731300500Z"
    }
   },
   "id": "6c99a738a888d283"
  },
  {
   "cell_type": "markdown",
   "source": [
    "# Model Testing"
   ],
   "metadata": {
    "collapsed": false
   },
   "id": "6261252fccf2cd5c"
  },
  {
   "cell_type": "code",
   "execution_count": 33,
   "outputs": [
    {
     "name": "stdout",
     "output_type": "stream",
     "text": [
      "Epoch 1/10\n",
      "\u001B[1m518/518\u001B[0m \u001B[32m━━━━━━━━━━━━━━━━━━━━\u001B[0m\u001B[37m\u001B[0m \u001B[1m6s\u001B[0m 10ms/step - accuracy: 0.0332 - loss: 4.8415 - val_accuracy: 0.0299 - val_loss: 3.9516\n",
      "Epoch 2/10\n",
      "\u001B[1m518/518\u001B[0m \u001B[32m━━━━━━━━━━━━━━━━━━━━\u001B[0m\u001B[37m\u001B[0m \u001B[1m5s\u001B[0m 10ms/step - accuracy: 0.0318 - loss: 4.0125 - val_accuracy: 0.0329 - val_loss: 3.9247\n",
      "Epoch 3/10\n",
      "\u001B[1m518/518\u001B[0m \u001B[32m━━━━━━━━━━━━━━━━━━━━\u001B[0m\u001B[37m\u001B[0m \u001B[1m5s\u001B[0m 10ms/step - accuracy: 0.0334 - loss: 3.9460 - val_accuracy: 0.0328 - val_loss: 3.9013\n",
      "Epoch 4/10\n",
      "\u001B[1m518/518\u001B[0m \u001B[32m━━━━━━━━━━━━━━━━━━━━\u001B[0m\u001B[37m\u001B[0m \u001B[1m5s\u001B[0m 10ms/step - accuracy: 0.0323 - loss: 3.9004 - val_accuracy: 0.0328 - val_loss: 3.8919\n",
      "Epoch 5/10\n",
      "\u001B[1m518/518\u001B[0m \u001B[32m━━━━━━━━━━━━━━━━━━━━\u001B[0m\u001B[37m\u001B[0m \u001B[1m10s\u001B[0m 9ms/step - accuracy: 0.0328 - loss: 3.8911 - val_accuracy: 0.0318 - val_loss: 3.8850\n",
      "Epoch 6/10\n",
      "\u001B[1m518/518\u001B[0m \u001B[32m━━━━━━━━━━━━━━━━━━━━\u001B[0m\u001B[37m\u001B[0m \u001B[1m5s\u001B[0m 9ms/step - accuracy: 0.0325 - loss: 3.7201 - val_accuracy: 0.0294 - val_loss: 3.4398\n",
      "Epoch 7/10\n",
      "\u001B[1m518/518\u001B[0m \u001B[32m━━━━━━━━━━━━━━━━━━━━\u001B[0m\u001B[37m\u001B[0m \u001B[1m5s\u001B[0m 9ms/step - accuracy: 0.0311 - loss: 3.4390 - val_accuracy: 0.0294 - val_loss: 3.4388\n",
      "Epoch 8/10\n",
      "\u001B[1m518/518\u001B[0m \u001B[32m━━━━━━━━━━━━━━━━━━━━\u001B[0m\u001B[37m\u001B[0m \u001B[1m5s\u001B[0m 10ms/step - accuracy: 0.0339 - loss: 3.4398 - val_accuracy: 0.0277 - val_loss: 3.4361\n",
      "Epoch 9/10\n",
      "\u001B[1m518/518\u001B[0m \u001B[32m━━━━━━━━━━━━━━━━━━━━\u001B[0m\u001B[37m\u001B[0m \u001B[1m5s\u001B[0m 9ms/step - accuracy: 0.0344 - loss: 3.4360 - val_accuracy: 0.0414 - val_loss: 3.4357\n",
      "Epoch 10/10\n",
      "\u001B[1m518/518\u001B[0m \u001B[32m━━━━━━━━━━━━━━━━━━━━\u001B[0m\u001B[37m\u001B[0m \u001B[1m5s\u001B[0m 9ms/step - accuracy: 0.0350 - loss: 3.4356 - val_accuracy: 0.0414 - val_loss: 3.4353\n",
      "test loss, test acc: [3.4353504180908203, 0.040665239095687866]\n"
     ]
    }
   ],
   "source": [
    "# Model Testing\n",
    "model.compile(optimizer=tf.keras.optimizers.Adam(learning_rate=0.01),\n",
    "              loss='sparse_categorical_crossentropy',\n",
    "              metrics=['accuracy'])\n",
    "\n",
    "# define training variables V, I, and T here: \n",
    "X = df[['V', 'I', 'T_surf', 'V-1', 'I-1', 'T_surf-1']]\n",
    "Y = df[['SOH']]\n",
    "\n",
    "# split up the data into training and testing \n",
    "x_train, x_test, y_train, y_test = train_test_split(X, Y, test_size=0.2, random_state=42)\n",
    "\n",
    "model.fit(x_train, y_train, epochs=10, \n",
    "\t\tbatch_size=2000, \n",
    "\t\tvalidation_split=0.2) \n",
    "\n",
    "results = model.evaluate(x_test, y_test, verbose = 0) \n",
    "print('test loss, test acc:', results)\n"
   ],
   "metadata": {
    "collapsed": false,
    "ExecuteTime": {
     "end_time": "2024-02-07T03:34:47.982750500Z",
     "start_time": "2024-02-07T03:33:46.161226800Z"
    }
   },
   "id": "4fda4d1f7b42b329"
  },
  {
   "cell_type": "markdown",
   "source": [
    "# Model Export"
   ],
   "metadata": {
    "collapsed": false
   },
   "id": "6e9bdcdbfba190be"
  },
  {
   "cell_type": "code",
   "execution_count": 4,
   "outputs": [],
   "source": [
    "# Model Export\n",
    "# save Keras model\n",
    "model.save(\"model_file_name\" +'.h5')\n",
    "# convert Keras model to a tflite model \n",
    "converter = tf.lite.TFLiteConverter.from_keras_model(model)\n",
    "converter.optimizations = [tf.lite.Optimize.OPTIMIZE_FOR_SIZE]\n",
    "tflite_model = converter.convert()\n",
    "with open(\"model_file_name\" + '.tflite', 'wb') as f:\n",
    "    f.write(tflite_model)\n",
    "\t"
   ],
   "metadata": {
    "collapsed": false,
    "ExecuteTime": {
     "end_time": "2024-02-07T01:53:56.054193600Z",
     "start_time": "2024-02-07T01:53:56.036672Z"
    }
   },
   "id": "292d37d85f804733"
  }
 ],
 "metadata": {
  "kernelspec": {
   "display_name": "Python 3",
   "language": "python",
   "name": "python3"
  },
  "language_info": {
   "codemirror_mode": {
    "name": "ipython",
    "version": 2
   },
   "file_extension": ".py",
   "mimetype": "text/x-python",
   "name": "python",
   "nbconvert_exporter": "python",
   "pygments_lexer": "ipython2",
   "version": "2.7.6"
  }
 },
 "nbformat": 4,
 "nbformat_minor": 5
}
